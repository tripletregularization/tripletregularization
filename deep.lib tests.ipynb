{
 "cells": [
  {
   "cell_type": "code",
   "execution_count": 1,
   "metadata": {},
   "outputs": [],
   "source": [
    "import torch\n",
    "import torch.nn as nn\n",
    "import torch.nn.functional as F\n",
    "import torch.optim as optim"
   ]
  },
  {
   "cell_type": "code",
   "execution_count": 2,
   "metadata": {},
   "outputs": [],
   "source": [
    "import torchvision\n",
    "from torchvision import datasets, models, transforms"
   ]
  },
  {
   "cell_type": "code",
   "execution_count": 3,
   "metadata": {},
   "outputs": [],
   "source": [
    "from pathlib import Path\n",
    "import numpy as np\n",
    "import matplotlib.pyplot as plt"
   ]
  },
  {
   "cell_type": "code",
   "execution_count": 4,
   "metadata": {},
   "outputs": [],
   "source": [
    "from session import Session, TrainingSchedule\n",
    "from LR_Schedule.cos_anneal import CosAnneal\n",
    "from LR_Schedule.lr_find import lr_find\n",
    "from callbacks import Validator\n",
    "from callbacks import OneHotAccuracy\n",
    "import Datasets.ImageClassifierData as ImageClassifierData"
   ]
  },
  {
   "cell_type": "code",
   "execution_count": 5,
   "metadata": {},
   "outputs": [
    {
     "data": {
      "text/plain": [
       "(True, 'GeForce GTX 960M', True)"
      ]
     },
     "execution_count": 5,
     "metadata": {},
     "output_type": "execute_result"
    }
   ],
   "source": [
    "torch.cuda.is_available(), torch.cuda.get_device_name(0), torch.backends.cudnn.enabled"
   ]
  },
  {
   "cell_type": "code",
   "execution_count": 6,
   "metadata": {},
   "outputs": [],
   "source": [
    "#DATA_PATH = Path('data/hymenoptera_data')\n",
    "DATA_PATH = Path('data/dogscats')"
   ]
  },
  {
   "cell_type": "code",
   "execution_count": 7,
   "metadata": {},
   "outputs": [],
   "source": [
    "data_transforms = {\n",
    "    'train': transforms.Compose([\n",
    "        transforms.RandomResizedCrop(224),\n",
    "        transforms.RandomHorizontalFlip(),\n",
    "        transforms.ToTensor(),\n",
    "        transforms.Normalize([0.485, 0.456, 0.406], [0.229, 0.224, 0.225])\n",
    "    ]),\n",
    "    'valid': transforms.Compose([\n",
    "        transforms.Resize(256),\n",
    "        transforms.CenterCrop(224),\n",
    "        transforms.ToTensor(),\n",
    "        transforms.Normalize([0.485, 0.456, 0.406], [0.229, 0.224, 0.225])\n",
    "    ]),\n",
    "}\n",
    "\n",
    "data = ImageClassifierData.from_paths(DATA_PATH, 16, data_transforms)"
   ]
  },
  {
   "cell_type": "code",
   "execution_count": 8,
   "metadata": {
    "scrolled": true
   },
   "outputs": [
    {
     "name": "stdout",
     "output_type": "stream",
     "text": [
      "[\n",
      "( 0 , 0 ,.,.) = \n",
      "  0.9988  1.0673  0.7077  ...   0.8104  0.3481  0.5364\n",
      "  1.1015  1.0844  0.6734  ...   0.9303  0.3823  0.7248\n",
      "  1.1700  1.0331  0.6906  ...   0.9646  0.4508  0.8618\n",
      "           ...             ⋱             ...          \n",
      " -0.9363 -0.7822 -0.7993  ...   1.1358  1.1700  0.9988\n",
      " -0.9363 -0.7650 -0.7308  ...   1.2043  1.1700  0.9303\n",
      " -0.8678 -0.8164 -0.7479  ...   1.1358  1.1358  1.0159\n",
      "\n",
      "( 0 , 1 ,.,.) = \n",
      "  1.4307  1.5182  1.1856  ...   1.2731  0.8004  0.9930\n",
      "  1.5357  1.5182  1.1506  ...   1.3431  0.8179  1.1856\n",
      "  1.6057  1.4832  1.1681  ...   1.3782  0.8704  1.2906\n",
      "           ...             ⋱             ...          \n",
      " -0.2850 -0.1275 -0.1800  ...  -1.7031 -1.5630 -1.5980\n",
      " -0.2850 -0.0749 -0.1099  ...  -1.7031 -1.6155 -1.6681\n",
      " -0.2675 -0.1275 -0.1275  ...  -1.7556 -1.5980 -1.4930\n",
      "\n",
      "( 0 , 2 ,.,.) = \n",
      "  1.5942  1.6988  1.4722  ...   1.4722  1.0017  1.2108\n",
      "  1.6988  1.7163  1.4200  ...   1.5420  1.0191  1.3677\n",
      "  1.7685  1.6640  1.4548  ...   1.5594  1.0539  1.4897\n",
      "           ...             ⋱             ...          \n",
      " -0.0964  0.0953  0.2348  ...  -1.4559 -1.3513 -1.4210\n",
      " -0.1138  0.1128  0.2522  ...  -1.4210 -1.3687 -1.4210\n",
      " -0.1138  0.0082  0.1302  ...  -1.4907 -1.3339 -1.2467\n",
      "      ⋮  \n",
      "\n",
      "( 1 , 0 ,.,.) = \n",
      " -1.6042 -1.5699 -1.5528  ...   1.8208  1.8208  1.8722\n",
      " -1.5528 -1.4843 -1.5014  ...   1.8208  1.8208  1.8379\n",
      " -1.5528 -1.4158 -1.4843  ...   1.8208  1.8379  1.8208\n",
      "           ...             ⋱             ...          \n",
      "  1.7180  1.6153  1.4954  ...  -1.3473 -1.3130 -1.5014\n",
      "  1.8037  1.6153  1.4954  ...  -1.3644 -1.2959 -1.4843\n",
      "  1.8208  1.5297  1.4440  ...  -1.3987 -1.2788 -1.6042\n",
      "\n",
      "( 1 , 1 ,.,.) = \n",
      " -1.5105 -1.4755 -1.4580  ...   1.9734  1.9734  2.0259\n",
      " -1.4580 -1.3880 -1.4055  ...   1.9734  1.9734  1.9909\n",
      " -1.4580 -1.3179 -1.3880  ...   1.9734  1.9909  1.9734\n",
      "           ...             ⋱             ...          \n",
      "  1.8859  1.7808  1.6583  ...  -1.1779 -1.1253 -1.3179\n",
      "  1.9734  1.7808  1.6583  ...  -1.1779 -1.0903 -1.2654\n",
      "  1.9909  1.6933  1.6057  ...  -1.1078 -0.9853 -1.2829\n",
      "\n",
      "( 1 , 2 ,.,.) = \n",
      " -1.2816 -1.2467 -1.2293  ...   2.1520  2.1520  2.2043\n",
      " -1.2293 -1.1596 -1.1770  ...   2.1520  2.1520  2.1694\n",
      " -1.2293 -1.0898 -1.1596  ...   2.1520  2.1694  2.1520\n",
      "           ...             ⋱             ...          \n",
      "  2.0997  1.9951  1.8731  ...  -0.9678 -0.9678 -1.1596\n",
      "  2.1868  1.9951  1.8731  ...  -1.0201 -0.9678 -1.1421\n",
      "  2.2043  1.9080  1.8208  ...  -1.1421 -1.0376 -1.3513\n",
      "      ⋮  \n",
      "\n",
      "( 2 , 0 ,.,.) = \n",
      " -2.0494 -2.0494 -2.0665  ...  -1.9295 -1.9295 -1.9124\n",
      " -2.0494 -2.0494 -2.0665  ...  -1.8953 -1.8953 -1.8953\n",
      " -2.0494 -2.0494 -2.0665  ...  -1.8439 -1.8610 -1.8782\n",
      "           ...             ⋱             ...          \n",
      "  0.2796  0.3138  0.2282  ...   0.3309  0.2796  0.2111\n",
      "  0.0912  0.2111  0.2282  ...   0.1939  0.1768  0.1939\n",
      "  0.0398  0.1597  0.2111  ...   0.3994  0.3994  0.4166\n",
      "\n",
      "( 2 , 1 ,.,.) = \n",
      " -1.9657 -1.9657 -1.9832  ...  -1.8431 -1.8431 -1.8256\n",
      " -1.9657 -1.9657 -1.9832  ...  -1.8081 -1.8081 -1.8081\n",
      " -1.9657 -1.9657 -1.9832  ...  -1.7556 -1.7731 -1.7906\n",
      "           ...             ⋱             ...          \n",
      "  0.5728  0.6078  0.5203  ...   0.5028  0.4503  0.3803\n",
      "  0.3803  0.5028  0.5203  ...   0.3627  0.3452  0.3627\n",
      "  0.3277  0.4503  0.5028  ...   0.5553  0.5553  0.5903\n",
      "\n",
      "( 2 , 2 ,.,.) = \n",
      " -1.7696 -1.7696 -1.7870  ...  -1.6476 -1.6476 -1.6302\n",
      " -1.7696 -1.7696 -1.7870  ...  -1.6127 -1.6127 -1.6127\n",
      " -1.7696 -1.7696 -1.7870  ...  -1.5604 -1.5779 -1.5953\n",
      "           ...             ⋱             ...          \n",
      "  0.8797  0.9145  0.8274  ...   0.6531  0.6008  0.5311\n",
      "  0.6879  0.8099  0.8274  ...   0.5485  0.5311  0.5311\n",
      "  0.6356  0.7576  0.8099  ...   0.7925  0.7925  0.8099\n",
      "...     \n",
      "      ⋮  \n",
      "\n",
      "(13 , 0 ,.,.) = \n",
      " -1.6727 -1.6555 -1.6384  ...   1.9749  1.8379  1.7865\n",
      " -1.6213 -1.6042 -1.6042  ...   1.7865  1.7694  1.7180\n",
      " -1.5870 -1.5870 -1.5870  ...   1.8208  1.7352  1.5810\n",
      "           ...             ⋱             ...          \n",
      "  1.4954  1.5125  1.3755  ...  -0.3883 -0.6281 -1.1760\n",
      "  1.2728  1.2043  0.9988  ...  -0.3883 -0.3198 -1.0562\n",
      "  1.2385  1.3070  0.6221  ...  -1.0048 -0.6794 -0.4568\n",
      "\n",
      "(13 , 1 ,.,.) = \n",
      " -1.5105 -1.4930 -1.4755  ...   1.7808  1.7458  1.6583\n",
      " -1.4930 -1.4755 -1.4755  ...   1.6057  1.6408  1.5882\n",
      " -1.4755 -1.4755 -1.4755  ...   1.6408  1.6057  1.4482\n",
      "           ...             ⋱             ...          \n",
      "  1.4832  1.5182  1.4657  ...   0.1702  0.0126 -0.5301\n",
      "  1.3431  1.2906  1.1331  ...   0.1527  0.2577 -0.4776\n",
      "  1.5182  1.5707  0.8704  ...  -0.5651 -0.2675 -0.0224\n",
      "\n",
      "(13 , 2 ,.,.) = \n",
      " -1.2293 -1.2119 -1.1944  ...   1.9080  1.8557  1.7337\n",
      " -1.1770 -1.1770 -1.1770  ...   1.5594  1.6291  1.5594\n",
      " -1.1596 -1.1596 -1.1596  ...   1.5245  1.5245  1.3851\n",
      "           ...             ⋱             ...          \n",
      "  2.1520  2.0648  1.8034  ...  -0.5321 -0.7238 -1.2990\n",
      "  1.7163  1.5942  1.3154  ...  -0.5495 -0.4101 -1.1944\n",
      "  1.1585  1.2805  0.6705  ...  -1.2816 -0.8458 -0.6367\n",
      "      ⋮  \n",
      "\n",
      "(14 , 0 ,.,.) = \n",
      " -0.0629 -0.0458 -0.0287  ...  -1.1247 -1.0733 -1.0733\n",
      " -0.0629 -0.0458 -0.0287  ...  -1.1418 -1.1247 -1.0562\n",
      " -0.0629 -0.0458 -0.0287  ...  -1.1075 -1.0904 -1.0562\n",
      "           ...             ⋱             ...          \n",
      " -1.7412 -1.5357 -1.3302  ...  -1.8439 -1.7412 -1.6727\n",
      " -1.8439 -1.6213 -1.4500  ...  -1.6384 -1.6042 -1.5185\n",
      " -1.8953 -1.7240 -1.6042  ...  -1.5870 -1.5357 -1.5357\n",
      "\n",
      "(14 , 1 ,.,.) = \n",
      "  0.0476  0.0651  0.0826  ...  -1.8782 -1.8256 -1.8256\n",
      "  0.0476  0.0651  0.0826  ...  -1.8957 -1.8782 -1.8081\n",
      "  0.0476  0.0651  0.0826  ...  -1.8606 -1.8431 -1.8081\n",
      "           ...             ⋱             ...          \n",
      " -1.6155 -1.4055 -1.1954  ...  -1.6856 -1.5805 -1.5105\n",
      " -1.7206 -1.4930 -1.3179  ...  -1.4755 -1.4405 -1.3529\n",
      " -1.7731 -1.5980 -1.4755  ...  -1.4230 -1.3704 -1.3704\n",
      "\n",
      "(14 , 2 ,.,.) = \n",
      "  0.1999  0.2173  0.2348  ...  -1.3164 -1.2641 -1.2641\n",
      "  0.1999  0.2173  0.2348  ...  -1.3339 -1.3164 -1.2467\n",
      "  0.1999  0.2173  0.2348  ...  -1.2990 -1.2816 -1.2467\n",
      "           ...             ⋱             ...          \n",
      " -1.4384 -1.2293 -1.0201  ...  -1.4384 -1.3339 -1.2641\n",
      " -1.5604 -1.3339 -1.1596  ...  -1.2293 -1.1944 -1.1073\n",
      " -1.6302 -1.4559 -1.3339  ...  -1.1770 -1.1247 -1.1247\n",
      "      ⋮  \n",
      "\n",
      "(15 , 0 ,.,.) = \n",
      "  1.1700  1.1015  0.9303  ...  -1.3130 -1.1760 -1.0904\n",
      "  1.1872  1.1529  0.9817  ...  -1.3302 -1.1589 -1.1075\n",
      "  1.2043  1.1872  1.0331  ...  -1.3130 -1.1418 -1.1418\n",
      "           ...             ⋱             ...          \n",
      "  2.2318  2.2489  2.2147  ...   2.1804  2.2489  2.2147\n",
      "  2.1290  2.2147  2.2318  ...   2.0948  2.1975  2.2318\n",
      "  2.0263  2.1119  2.1975  ...   2.0263  2.1290  2.1804\n",
      "\n",
      "(15 , 1 ,.,.) = \n",
      "  0.4153  0.2227  0.0126  ...  -1.4755 -1.3704 -1.3354\n",
      "  0.4328  0.2752  0.0651  ...  -1.4930 -1.3704 -1.3529\n",
      "  0.4503  0.3102  0.1176  ...  -1.4930 -1.3529 -1.3880\n",
      "           ...             ⋱             ...          \n",
      "  2.4111  2.4286  2.3936  ...   1.6232  1.7458  1.7458\n",
      "  2.3060  2.3936  2.4111  ...   1.5882  1.7283  1.7983\n",
      "  2.2010  2.2885  2.3761  ...   1.5007  1.6408  1.7458\n",
      "\n",
      "(15 , 2 ,.,.) = \n",
      " -0.0615 -0.3055 -0.5321  ...  -1.4559 -1.2641 -1.1247\n",
      " -0.0441 -0.2707 -0.4798  ...  -1.4036 -1.2119 -1.1073\n",
      " -0.0267 -0.2358 -0.4450  ...  -1.3687 -1.1596 -1.1247\n",
      "           ...             ⋱             ...          \n",
      "  2.6226  2.6400  2.6051  ...   2.0125  2.1171  2.0823\n",
      "  2.5529  2.6400  2.6400  ...   1.9777  2.0823  2.1346\n",
      "  2.4483  2.5354  2.6226  ...   1.9080  2.0474  2.0823\n",
      "[torch.FloatTensor of size 16x3x224x224]\n",
      ", \n",
      " 0\n",
      " 1\n",
      " 0\n",
      " 1\n",
      " 1\n",
      " 0\n",
      " 1\n",
      " 0\n",
      " 0\n",
      " 0\n",
      " 1\n",
      " 0\n",
      " 1\n",
      " 1\n",
      " 0\n",
      " 0\n",
      "[torch.LongTensor of size 16]\n",
      "]\n"
     ]
    }
   ],
   "source": [
    "print(next(iter(data['train'])))"
   ]
  },
  {
   "cell_type": "code",
   "execution_count": 9,
   "metadata": {},
   "outputs": [
    {
     "data": {
      "text/plain": [
       "\"\\n# Get a batch of training data\\ninputs, classes = next(iter(dataloaders['train']))\\n\\n# Make a grid from batch\\nout = torchvision.utils.make_grid(inputs)\\n\\nimshow(out, title=[class_names[x] for x in classes])\\n\""
      ]
     },
     "execution_count": 9,
     "metadata": {},
     "output_type": "execute_result"
    }
   ],
   "source": [
    "def imshow(inp, title=None):\n",
    "    \"\"\"Imshow for Tensor.\"\"\"\n",
    "    inp = inp.numpy().transpose((1, 2, 0))\n",
    "    mean = np.array([0.485, 0.456, 0.406])\n",
    "    std = np.array([0.229, 0.224, 0.225])\n",
    "    inp = std * inp + mean\n",
    "    inp = np.clip(inp, 0, 1)\n",
    "    figure, ax = plt.subplots()\n",
    "    ax.imshow(inp)\n",
    "\n",
    "\n",
    "'''\n",
    "# Get a batch of training data\n",
    "inputs, classes = next(iter(dataloaders['train']))\n",
    "\n",
    "# Make a grid from batch\n",
    "out = torchvision.utils.make_grid(inputs)\n",
    "\n",
    "imshow(out, title=[class_names[x] for x in classes])\n",
    "'''"
   ]
  },
  {
   "cell_type": "code",
   "execution_count": 10,
   "metadata": {},
   "outputs": [],
   "source": [
    "model_ft = models.resnet18(pretrained=True)\n",
    "num_ftrs = model_ft.fc.in_features\n",
    "#model_ft.fc = nn.Linear(num_ftrs, 2)\n",
    "model_ft.fc = nn.Sequential(\n",
    "    nn.BatchNorm1d(num_features=num_ftrs),\n",
    "    nn.Dropout(p=.5),\n",
    "    nn.Linear(num_ftrs, 2),\n",
    "    nn.LogSoftmax(dim=1)\n",
    ")"
   ]
  },
  {
   "cell_type": "code",
   "execution_count": 11,
   "metadata": {},
   "outputs": [
    {
     "data": {
      "text/plain": [
       "ResNet(\n",
       "  (conv1): Conv2d (3, 64, kernel_size=(7, 7), stride=(2, 2), padding=(3, 3), bias=False)\n",
       "  (bn1): BatchNorm2d(64, eps=1e-05, momentum=0.1, affine=True)\n",
       "  (relu): ReLU(inplace)\n",
       "  (maxpool): MaxPool2d(kernel_size=(3, 3), stride=(2, 2), padding=(1, 1), dilation=(1, 1))\n",
       "  (layer1): Sequential(\n",
       "    (0): BasicBlock(\n",
       "      (conv1): Conv2d (64, 64, kernel_size=(3, 3), stride=(1, 1), padding=(1, 1), bias=False)\n",
       "      (bn1): BatchNorm2d(64, eps=1e-05, momentum=0.1, affine=True)\n",
       "      (relu): ReLU(inplace)\n",
       "      (conv2): Conv2d (64, 64, kernel_size=(3, 3), stride=(1, 1), padding=(1, 1), bias=False)\n",
       "      (bn2): BatchNorm2d(64, eps=1e-05, momentum=0.1, affine=True)\n",
       "    )\n",
       "    (1): BasicBlock(\n",
       "      (conv1): Conv2d (64, 64, kernel_size=(3, 3), stride=(1, 1), padding=(1, 1), bias=False)\n",
       "      (bn1): BatchNorm2d(64, eps=1e-05, momentum=0.1, affine=True)\n",
       "      (relu): ReLU(inplace)\n",
       "      (conv2): Conv2d (64, 64, kernel_size=(3, 3), stride=(1, 1), padding=(1, 1), bias=False)\n",
       "      (bn2): BatchNorm2d(64, eps=1e-05, momentum=0.1, affine=True)\n",
       "    )\n",
       "  )\n",
       "  (layer2): Sequential(\n",
       "    (0): BasicBlock(\n",
       "      (conv1): Conv2d (64, 128, kernel_size=(3, 3), stride=(2, 2), padding=(1, 1), bias=False)\n",
       "      (bn1): BatchNorm2d(128, eps=1e-05, momentum=0.1, affine=True)\n",
       "      (relu): ReLU(inplace)\n",
       "      (conv2): Conv2d (128, 128, kernel_size=(3, 3), stride=(1, 1), padding=(1, 1), bias=False)\n",
       "      (bn2): BatchNorm2d(128, eps=1e-05, momentum=0.1, affine=True)\n",
       "      (downsample): Sequential(\n",
       "        (0): Conv2d (64, 128, kernel_size=(1, 1), stride=(2, 2), bias=False)\n",
       "        (1): BatchNorm2d(128, eps=1e-05, momentum=0.1, affine=True)\n",
       "      )\n",
       "    )\n",
       "    (1): BasicBlock(\n",
       "      (conv1): Conv2d (128, 128, kernel_size=(3, 3), stride=(1, 1), padding=(1, 1), bias=False)\n",
       "      (bn1): BatchNorm2d(128, eps=1e-05, momentum=0.1, affine=True)\n",
       "      (relu): ReLU(inplace)\n",
       "      (conv2): Conv2d (128, 128, kernel_size=(3, 3), stride=(1, 1), padding=(1, 1), bias=False)\n",
       "      (bn2): BatchNorm2d(128, eps=1e-05, momentum=0.1, affine=True)\n",
       "    )\n",
       "  )\n",
       "  (layer3): Sequential(\n",
       "    (0): BasicBlock(\n",
       "      (conv1): Conv2d (128, 256, kernel_size=(3, 3), stride=(2, 2), padding=(1, 1), bias=False)\n",
       "      (bn1): BatchNorm2d(256, eps=1e-05, momentum=0.1, affine=True)\n",
       "      (relu): ReLU(inplace)\n",
       "      (conv2): Conv2d (256, 256, kernel_size=(3, 3), stride=(1, 1), padding=(1, 1), bias=False)\n",
       "      (bn2): BatchNorm2d(256, eps=1e-05, momentum=0.1, affine=True)\n",
       "      (downsample): Sequential(\n",
       "        (0): Conv2d (128, 256, kernel_size=(1, 1), stride=(2, 2), bias=False)\n",
       "        (1): BatchNorm2d(256, eps=1e-05, momentum=0.1, affine=True)\n",
       "      )\n",
       "    )\n",
       "    (1): BasicBlock(\n",
       "      (conv1): Conv2d (256, 256, kernel_size=(3, 3), stride=(1, 1), padding=(1, 1), bias=False)\n",
       "      (bn1): BatchNorm2d(256, eps=1e-05, momentum=0.1, affine=True)\n",
       "      (relu): ReLU(inplace)\n",
       "      (conv2): Conv2d (256, 256, kernel_size=(3, 3), stride=(1, 1), padding=(1, 1), bias=False)\n",
       "      (bn2): BatchNorm2d(256, eps=1e-05, momentum=0.1, affine=True)\n",
       "    )\n",
       "  )\n",
       "  (layer4): Sequential(\n",
       "    (0): BasicBlock(\n",
       "      (conv1): Conv2d (256, 512, kernel_size=(3, 3), stride=(2, 2), padding=(1, 1), bias=False)\n",
       "      (bn1): BatchNorm2d(512, eps=1e-05, momentum=0.1, affine=True)\n",
       "      (relu): ReLU(inplace)\n",
       "      (conv2): Conv2d (512, 512, kernel_size=(3, 3), stride=(1, 1), padding=(1, 1), bias=False)\n",
       "      (bn2): BatchNorm2d(512, eps=1e-05, momentum=0.1, affine=True)\n",
       "      (downsample): Sequential(\n",
       "        (0): Conv2d (256, 512, kernel_size=(1, 1), stride=(2, 2), bias=False)\n",
       "        (1): BatchNorm2d(512, eps=1e-05, momentum=0.1, affine=True)\n",
       "      )\n",
       "    )\n",
       "    (1): BasicBlock(\n",
       "      (conv1): Conv2d (512, 512, kernel_size=(3, 3), stride=(1, 1), padding=(1, 1), bias=False)\n",
       "      (bn1): BatchNorm2d(512, eps=1e-05, momentum=0.1, affine=True)\n",
       "      (relu): ReLU(inplace)\n",
       "      (conv2): Conv2d (512, 512, kernel_size=(3, 3), stride=(1, 1), padding=(1, 1), bias=False)\n",
       "      (bn2): BatchNorm2d(512, eps=1e-05, momentum=0.1, affine=True)\n",
       "    )\n",
       "  )\n",
       "  (avgpool): AvgPool2d(kernel_size=7, stride=1, padding=0, ceil_mode=False, count_include_pad=True)\n",
       "  (fc): Sequential(\n",
       "    (0): BatchNorm1d(512, eps=1e-05, momentum=0.1, affine=True)\n",
       "    (1): Dropout(p=0.5)\n",
       "    (2): Linear(in_features=512, out_features=2)\n",
       "    (3): LogSoftmax()\n",
       "  )\n",
       ")"
      ]
     },
     "execution_count": 11,
     "metadata": {},
     "output_type": "execute_result"
    }
   ],
   "source": [
    "model_ft"
   ]
  },
  {
   "cell_type": "code",
   "execution_count": 12,
   "metadata": {},
   "outputs": [],
   "source": [
    "criterion = nn.CrossEntropyLoss()\n",
    "optimizer = optim.SGD(model_ft.parameters(), lr=1e-3)"
   ]
  },
  {
   "cell_type": "code",
   "execution_count": 13,
   "metadata": {},
   "outputs": [],
   "source": [
    "sess = Session(model_ft, criterion, optimizer)\n",
    "sess.freeze()"
   ]
  },
  {
   "cell_type": "code",
   "execution_count": 14,
   "metadata": {},
   "outputs": [],
   "source": [
    "lr_scheduler = CosAnneal(len(data['train']), T_mult=2)\n",
    "validator = Validator(data['valid'], OneHotAccuracy())"
   ]
  },
  {
   "cell_type": "code",
   "execution_count": 15,
   "metadata": {},
   "outputs": [],
   "source": [
    "schedule = TrainingSchedule(data['train'], callbacks=[lr_scheduler, validator])"
   ]
  },
  {
   "cell_type": "code",
   "execution_count": 16,
   "metadata": {},
   "outputs": [
    {
     "data": {
      "application/vnd.jupyter.widget-view+json": {
       "model_id": "7dd082b9ebea4d5d94b88d1bebc619bb",
       "version_major": 2,
       "version_minor": 0
      },
      "text/plain": [
       "HBox(children=(IntProgress(value=0, description='Epochs', max=1), HTML(value='')))"
      ]
     },
     "metadata": {},
     "output_type": "display_data"
    },
    {
     "data": {
      "application/vnd.jupyter.widget-view+json": {
       "model_id": "13f3dbaabd27497b98f28ec9bff9489a",
       "version_major": 2,
       "version_minor": 0
      },
      "text/plain": [
       "HBox(children=(IntProgress(value=0, description='Steps', max=1438), HTML(value='')))"
      ]
     },
     "metadata": {},
     "output_type": "display_data"
    },
    {
     "name": "stdout",
     "output_type": "stream",
     "text": [
      "\n"
     ]
    },
    {
     "ename": "TypeError",
     "evalue": "on_batch_end() missing 2 required positional arguments: 'output' and 'label'",
     "output_type": "error",
     "traceback": [
      "\u001b[1;31m---------------------------------------------------------------------------\u001b[0m",
      "\u001b[1;31mTypeError\u001b[0m                                 Traceback (most recent call last)",
      "\u001b[1;32m<ipython-input-16-73ae13a95d96>\u001b[0m in \u001b[0;36m<module>\u001b[1;34m()\u001b[0m\n\u001b[1;32m----> 1\u001b[1;33m \u001b[0mlr_find\u001b[0m\u001b[1;33m(\u001b[0m\u001b[0msess\u001b[0m\u001b[1;33m,\u001b[0m \u001b[0mdata\u001b[0m\u001b[1;33m[\u001b[0m\u001b[1;34m'train'\u001b[0m\u001b[1;33m]\u001b[0m\u001b[1;33m,\u001b[0m \u001b[0mstart_lr\u001b[0m\u001b[1;33m=\u001b[0m\u001b[1;36m1e-5\u001b[0m\u001b[1;33m)\u001b[0m\u001b[1;33m\u001b[0m\u001b[0m\n\u001b[0m",
      "\u001b[1;32mC:\\PytorchNeuralNet\\LR_Schedule\\lr_find.py\u001b[0m in \u001b[0;36mlr_find\u001b[1;34m(session, data, start_lr, end_lr)\u001b[0m\n\u001b[0;32m     56\u001b[0m     \u001b[0mlr_scheduler\u001b[0m \u001b[1;33m=\u001b[0m \u001b[0mLRFindScheduler\u001b[0m\u001b[1;33m(\u001b[0m\u001b[0mlen\u001b[0m\u001b[1;33m(\u001b[0m\u001b[0mdata\u001b[0m\u001b[1;33m)\u001b[0m\u001b[1;33m,\u001b[0m \u001b[0mstart_lr\u001b[0m\u001b[1;33m,\u001b[0m \u001b[0mend_lr\u001b[0m\u001b[1;33m)\u001b[0m\u001b[1;33m\u001b[0m\u001b[0m\n\u001b[0;32m     57\u001b[0m     \u001b[0mschedule\u001b[0m \u001b[1;33m=\u001b[0m \u001b[0mTrainingSchedule\u001b[0m\u001b[1;33m(\u001b[0m\u001b[0mdata\u001b[0m\u001b[1;33m,\u001b[0m \u001b[1;33m[\u001b[0m\u001b[0mlr_scheduler\u001b[0m\u001b[1;33m]\u001b[0m\u001b[1;33m)\u001b[0m\u001b[1;33m\u001b[0m\u001b[0m\n\u001b[1;32m---> 58\u001b[1;33m     \u001b[0msession\u001b[0m\u001b[1;33m.\u001b[0m\u001b[0mtrain\u001b[0m\u001b[1;33m(\u001b[0m\u001b[0mschedule\u001b[0m\u001b[1;33m,\u001b[0m \u001b[1;36m1\u001b[0m\u001b[1;33m)\u001b[0m\u001b[1;33m\u001b[0m\u001b[0m\n\u001b[0m\u001b[0;32m     59\u001b[0m     \u001b[0mlr_scheduler\u001b[0m\u001b[1;33m.\u001b[0m\u001b[0mplot\u001b[0m\u001b[1;33m(\u001b[0m\u001b[1;33m)\u001b[0m\u001b[1;33m\u001b[0m\u001b[0m\n\u001b[0;32m     60\u001b[0m     \u001b[0msession\u001b[0m\u001b[1;33m.\u001b[0m\u001b[0mload\u001b[0m\u001b[1;33m(\u001b[0m\u001b[1;34m'temp'\u001b[0m\u001b[1;33m)\u001b[0m\u001b[1;33m\u001b[0m\u001b[0m\n",
      "\u001b[1;32mC:\\PytorchNeuralNet\\session.py\u001b[0m in \u001b[0;36mtrain\u001b[1;34m(self, schedule, epochs)\u001b[0m\n\u001b[0;32m    136\u001b[0m     \u001b[1;32mdef\u001b[0m \u001b[0mtrain\u001b[0m\u001b[1;33m(\u001b[0m\u001b[0mself\u001b[0m\u001b[1;33m,\u001b[0m \u001b[0mschedule\u001b[0m\u001b[1;33m,\u001b[0m \u001b[0mepochs\u001b[0m\u001b[1;33m)\u001b[0m\u001b[1;33m:\u001b[0m\u001b[1;33m\u001b[0m\u001b[0m\n\u001b[0;32m    137\u001b[0m         \u001b[1;32mwith\u001b[0m \u001b[0mTrainModel\u001b[0m\u001b[1;33m(\u001b[0m\u001b[0mself\u001b[0m\u001b[1;33m.\u001b[0m\u001b[0mmodel\u001b[0m\u001b[1;33m)\u001b[0m\u001b[1;33m:\u001b[0m\u001b[1;33m\u001b[0m\u001b[0m\n\u001b[1;32m--> 138\u001b[1;33m             \u001b[0mself\u001b[0m\u001b[1;33m.\u001b[0m\u001b[0mrun\u001b[0m\u001b[1;33m(\u001b[0m\u001b[0mschedule\u001b[0m\u001b[1;33m,\u001b[0m \u001b[0mepochs\u001b[0m\u001b[1;33m)\u001b[0m\u001b[1;33m\u001b[0m\u001b[0m\n\u001b[0m\u001b[0;32m    139\u001b[0m \u001b[1;33m\u001b[0m\u001b[0m\n\u001b[0;32m    140\u001b[0m     \u001b[1;32mdef\u001b[0m \u001b[0mstop\u001b[0m\u001b[1;33m(\u001b[0m\u001b[0mself\u001b[0m\u001b[1;33m)\u001b[0m\u001b[1;33m:\u001b[0m\u001b[1;33m\u001b[0m\u001b[0m\n",
      "\u001b[1;32mC:\\PytorchNeuralNet\\session.py\u001b[0m in \u001b[0;36mrun\u001b[1;34m(self, schedule, epochs)\u001b[0m\n\u001b[0;32m    130\u001b[0m                 \u001b[0mstep_loss\u001b[0m \u001b[1;33m=\u001b[0m \u001b[0mself\u001b[0m\u001b[1;33m.\u001b[0m\u001b[0mstep\u001b[0m\u001b[1;33m(\u001b[0m\u001b[0minput\u001b[0m\u001b[1;33m,\u001b[0m \u001b[0mlabel\u001b[0m\u001b[1;33m)\u001b[0m\u001b[1;33m\u001b[0m\u001b[0m\n\u001b[0;32m    131\u001b[0m                 \u001b[0mlossMeter\u001b[0m\u001b[1;33m.\u001b[0m\u001b[0mupdate\u001b[0m\u001b[1;33m(\u001b[0m\u001b[0mstep_loss\u001b[0m\u001b[1;33m,\u001b[0m \u001b[0mlabel\u001b[0m\u001b[1;33m.\u001b[0m\u001b[0mshape\u001b[0m\u001b[1;33m[\u001b[0m\u001b[1;36m0\u001b[0m\u001b[1;33m]\u001b[0m\u001b[1;33m)\u001b[0m\u001b[1;33m\u001b[0m\u001b[0m\n\u001b[1;32m--> 132\u001b[1;33m                 \u001b[1;32mfor\u001b[0m \u001b[0mcb\u001b[0m \u001b[1;32min\u001b[0m \u001b[0mschedule\u001b[0m\u001b[1;33m.\u001b[0m\u001b[0mcallbacks\u001b[0m\u001b[1;33m:\u001b[0m \u001b[0mcb\u001b[0m\u001b[1;33m.\u001b[0m\u001b[0mon_batch_end\u001b[0m\u001b[1;33m(\u001b[0m\u001b[0mself\u001b[0m\u001b[1;33m,\u001b[0m \u001b[0mlossMeter\u001b[0m\u001b[1;33m)\u001b[0m\u001b[1;33m\u001b[0m\u001b[0m\n\u001b[0m\u001b[0;32m    133\u001b[0m             \u001b[1;32mfor\u001b[0m \u001b[0mcb\u001b[0m \u001b[1;32min\u001b[0m \u001b[0mschedule\u001b[0m\u001b[1;33m.\u001b[0m\u001b[0mcallbacks\u001b[0m\u001b[1;33m:\u001b[0m \u001b[0mcb\u001b[0m\u001b[1;33m.\u001b[0m\u001b[0mon_epoch_end\u001b[0m\u001b[1;33m(\u001b[0m\u001b[0mself\u001b[0m\u001b[1;33m,\u001b[0m \u001b[0mlossMeter\u001b[0m\u001b[1;33m)\u001b[0m\u001b[1;33m\u001b[0m\u001b[0m\n\u001b[0;32m    134\u001b[0m         \u001b[1;32mfor\u001b[0m \u001b[0mcb\u001b[0m \u001b[1;32min\u001b[0m \u001b[0mschedule\u001b[0m\u001b[1;33m.\u001b[0m\u001b[0mcallbacks\u001b[0m\u001b[1;33m:\u001b[0m \u001b[0mcb\u001b[0m\u001b[1;33m.\u001b[0m\u001b[0mon_train_end\u001b[0m\u001b[1;33m(\u001b[0m\u001b[0mself\u001b[0m\u001b[1;33m,\u001b[0m \u001b[0mlossMeter\u001b[0m\u001b[1;33m)\u001b[0m\u001b[1;33m\u001b[0m\u001b[0m\n",
      "\u001b[1;31mTypeError\u001b[0m: on_batch_end() missing 2 required positional arguments: 'output' and 'label'"
     ]
    }
   ],
   "source": [
    "lr_find(sess, data['train'], start_lr=1e-5)"
   ]
  },
  {
   "cell_type": "code",
   "execution_count": null,
   "metadata": {},
   "outputs": [],
   "source": [
    "sess.set_lr(1e-2)"
   ]
  },
  {
   "cell_type": "code",
   "execution_count": null,
   "metadata": {},
   "outputs": [],
   "source": [
    "sess.train(schedule, 3)"
   ]
  },
  {
   "cell_type": "code",
   "execution_count": null,
   "metadata": {},
   "outputs": [],
   "source": [
    "sess.unfreeze()"
   ]
  },
  {
   "cell_type": "code",
   "execution_count": null,
   "metadata": {},
   "outputs": [],
   "source": [
    "lr_find(sess, data['train'], start_lr=1e-5)"
   ]
  },
  {
   "cell_type": "code",
   "execution_count": null,
   "metadata": {},
   "outputs": [],
   "source": [
    "sess.set_lr(5e-3)"
   ]
  },
  {
   "cell_type": "code",
   "execution_count": null,
   "metadata": {},
   "outputs": [],
   "source": [
    "sess.train(schedule, 3)"
   ]
  },
  {
   "cell_type": "code",
   "execution_count": null,
   "metadata": {},
   "outputs": [],
   "source": [
    "lr_scheduler.plot()"
   ]
  }
 ],
 "metadata": {
  "kernelspec": {
   "display_name": "fastAI custom",
   "language": "python",
   "name": "fastai"
  },
  "language_info": {
   "codemirror_mode": {
    "name": "ipython",
    "version": 3
   },
   "file_extension": ".py",
   "mimetype": "text/x-python",
   "name": "python",
   "nbconvert_exporter": "python",
   "pygments_lexer": "ipython3",
   "version": "3.6.6"
  }
 },
 "nbformat": 4,
 "nbformat_minor": 2
}
